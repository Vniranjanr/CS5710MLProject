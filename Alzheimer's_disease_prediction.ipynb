{
  "nbformat": 4,
  "nbformat_minor": 0,
  "metadata": {
    "colab": {
      "provenance": []
    },
    "kernelspec": {
      "name": "python3",
      "display_name": "Python 3"
    },
    "language_info": {
      "name": "python"
    }
  },
  "cells": [
    {
      "cell_type": "markdown",
      "source": [
        "Python|Machine learning|Ensemble methods"
      ],
      "metadata": {
        "id": "p5RvOj_YbNb7"
      }
    },
    {
      "cell_type": "markdown",
      "source": [
        "PROBLEM OVERVIEW\n",
        "\n",
        "\n",
        "*   There are multiple factors that affect the person who is diagnosed with the disease so scientists research is still at the beginning stages to understand the exact cause of the disease.Main warning signs of this disease is loss of memory and other cognitive impairments.Brain MRI can detect the mild cognitive impairments which can potentially develop Alzheimer’s disease. In the laboratory radiologists analyse these high resolution MRI images for abnormalities however,  this process is cumbersome and time consuming most importantly it is prone to human error.As per recent survey 5-10% of biomedical images are overlooked the pathologists. \n",
        "\n",
        "\n",
        "\n",
        "\n",
        "\n",
        "\n"
      ],
      "metadata": {
        "id": "a286oMFabXUY"
      }
    },
    {
      "cell_type": "markdown",
      "source": [
        "DATA\n",
        "\n",
        "* Dataset is collected from kaggle original source of the dataset is Open Access Series of Imaging Studies (OASIS)\n",
        "\n",
        "*   This set consists of a longitudinal collection of 150 subjects aged 60 to 96. Each subject was scanned on two or more visits, separated by at least one year for a total of 373 imaging sessions. For each subject, 3 or 4 individual T1-weighted MRI scans obtained in single scan sessions are included. The subjects are all right-handed and include both men and women. 72 of the subjects were characterized as nondemented throughout the study. 64 of the included subjects were characterized as demented at the time of their initial visits and remained so for subsequent scans, including 51 individuals with mild to moderate Alzheimer’s disease. Another 14 subjects were characterized as nondemented at the time of their initial visit and were subsequently characterized as demented at a later visit.\n",
        "\n",
        "\n",
        "\n",
        "\n",
        "\n",
        "\n",
        "\n",
        "\n",
        "\n",
        "\n",
        "\n",
        "\n",
        "\n",
        "\n",
        "\n",
        "\n"
      ],
      "metadata": {
        "id": "R49z1UOseJhm"
      }
    },
    {
      "cell_type": "markdown",
      "source": [
        "Download [here](https://www.kaggle.com/datasets/jboysen/mri-and-alzheimers?select=oasis_cross-sectional.csv)"
      ],
      "metadata": {
        "id": "cI60_Vvxik1x"
      }
    },
    {
      "cell_type": "markdown",
      "source": [
        "Dataset description:  \n",
        "------------------longitudinal data ---------------    \n",
        "visits: Number of visits to the doctor.    \n",
        "MR delay:     \n",
        "M/F : Gender of the patient.    \n",
        "Hand: Dominant hand of the patient(left or right).    \n",
        "Age: Age of the patient.      \n",
        "EDUC : educcational level of the patient.    \n",
        "SES: Socio economic status \n",
        "MMSE: Mini Mental State Examination   \n",
        "CDR: Clinical Dementia Rating   \n",
        "eTIV: Estimated Total Intracranial Volume.   \n",
        "nWBV: Normalize Whole Brain Volume   \n",
        "ASF: Atlas scaling factor \n",
        "\n",
        "\n",
        "**sociodemographic features:** \n",
        "\n",
        "1. Gender: {0 = Female, 1 = Male}, 100% complete (416 of 416);\n",
        "\n",
        "2. Age: (18, 96) years of age.  \n",
        "\n",
        "3. Education: \n",
        "> 1 < high school (HS), 2 = HS Graduate, 3 = Some College, 4 = College Graduate, 5 = Beyond College Graduate\n",
        "\n",
        "4. Socioeconomic Status (SES): (1 = lower, 2 = lower middle, 3 = middle, 4 = upper middle, 5 = upper)\n",
        "\n",
        "5. Hand: Dominant hand of the patient\n",
        "\n",
        "**Clinical Predictor Variables:**\n",
        "\n",
        "6. Mini-mental state exam (MMSE): (0,30). The MMSE is a 30-point questionnaire.  that has been shown to be valid and reliable in identifying dementia [7,23].   \n",
        "\n",
        "7. Atlas scaling factor (ASF): (0.88–1.56) (observed). The ASF is a one-parameter scaling factor that allows for comparison of the estimated total intracranial volume (eTIV) based on differences in human anatomy.  \n",
        "\n",
        "8. Estimated total intracranial volume (eTIV): (1132–1992) mm3 [24]. The eTIV variable estimates intracranial brain volume.  \n",
        "\n",
        "9. Normalized whole brain volume (nWBV): (0.64–0.90) mg (observed). This variable measures the volume of the whole brain.\n",
        "\n",
        "10. visits: Number of visits to the doctor.\n",
        "\n",
        "11. MR delay :   \n",
        "\n",
        "12. Group: Group is the target variable divided into Demented, Non demented and  converted. \n",
        "\n",
        "\n",
        "\n",
        "\n",
        "\n",
        "\n",
        "\n",
        "\n",
        "\n",
        "\n",
        "\n",
        "\n",
        "\n",
        "\n"
      ],
      "metadata": {
        "id": "DmAKdmMoixSZ"
      }
    },
    {
      "cell_type": "markdown",
      "source": [
        "## Project structure\n",
        "\n",
        "\n",
        "1.   Data cleaning /Data preprocessing\n",
        "2.   Exploratory data analysis(EDA)\n",
        "3.   Cross validation\n",
        "4.   Ensemble methods\n",
        "5.   Comparative analysis\n",
        "\n",
        "\n"
      ],
      "metadata": {
        "id": "YU3EU2wHnVUg"
      }
    },
    {
      "cell_type": "code",
      "source": [
        "from google.colab import drive\n",
        "drive.mount('/content/drive')"
      ],
      "metadata": {
        "colab": {
          "base_uri": "https://localhost:8080/"
        },
        "id": "U44fMWPmnNiK",
        "outputId": "cfa2efe0-a131-4bbd-ed34-e42aa2628a28"
      },
      "execution_count": null,
      "outputs": [
        {
          "output_type": "stream",
          "name": "stdout",
          "text": [
            "Drive already mounted at /content/drive; to attempt to forcibly remount, call drive.mount(\"/content/drive\", force_remount=True).\n"
          ]
        }
      ]
    },
    {
      "cell_type": "markdown",
      "source": [
        "## Importing dependencies"
      ],
      "metadata": {
        "id": "NnuJ9bV6oA3k"
      }
    },
    {
      "cell_type": "code",
      "source": [
        "import pandas as pd # data analysis\n",
        "import numpy as np # linear operations\n",
        "\n",
        "#scikit learn for model creation and data processing\n",
        "from sklearn.preprocessing import StandardScaler,LabelEncoder,OneHotEncoder\n",
        "from sklearn.model_selection import train_test_split\n",
        "from sklearn.metrics import classification_report,confusion_matrix\n",
        "from sklearn.ensemble import BaggingClassifier\n",
        "from sklearn.ensemble import RandomForestClassifier\n",
        "from sklearn.ensemble import ExtraTreesClassifier\n",
        "from sklearn.neighbors import KNeighborsClassifier\n",
        "from sklearn.svm import SVC\n",
        "from sklearn.linear_model import RidgeClassifier\n",
        "from sklearn.model_selection import cross_val_score\n",
        "from sklearn.metrics import accuracy_score\n",
        "from sklearn.ensemble import VotingClassifier\n",
        "from sklearn.ensemble import AdaBoostClassifier\n",
        "from sklearn.ensemble import GradientBoostingClassifier\n",
        "from sklearn.tree import DecisionTreeClassifier\n",
        "\n",
        "\n",
        "#Data visualization\n",
        "import matplotlib.pyplot as plt\n",
        "from matplotlib import style\n",
        "import seaborn as sns\n",
        "\n",
        "#ignoring warning\n",
        "import warnings\n",
        "warnings.filterwarnings(\"ignore\")\n",
        "\n",
        "#model saving\n",
        "import pickle\n"
      ],
      "metadata": {
        "id": "zmfiHrLYn_Mq"
      },
      "execution_count": null,
      "outputs": []
    },
    {
      "cell_type": "markdown",
      "source": [
        "## Data loading....."
      ],
      "metadata": {
        "id": "DY9Du0tx5Jk7"
      }
    },
    {
      "cell_type": "code",
      "source": [
        "longitudinal_data = pd.read_csv('/content/drive/MyDrive/UCM projects/Sep-Dec 2022/Alzheimer/dataset/oasis_longitudinal.csv')"
      ],
      "metadata": {
        "id": "z97VGvn1n5pl"
      },
      "execution_count": null,
      "outputs": []
    },
    {
      "cell_type": "code",
      "source": [
        "#sample data\n",
        "longitudinal_data.head()"
      ],
      "metadata": {
        "colab": {
          "base_uri": "https://localhost:8080/",
          "height": 206
        },
        "id": "Ru7JPmjx5ZOt",
        "outputId": "1d241aef-3698-4009-9494-9ce9752df4ff"
      },
      "execution_count": null,
      "outputs": [
        {
          "output_type": "execute_result",
          "data": {
            "text/plain": [
              "  Subject ID         MRI ID        Group  Visit  MR Delay M/F Hand  Age  EDUC  \\\n",
              "0  OAS2_0001  OAS2_0001_MR1  Nondemented      1         0   M    R   87    14   \n",
              "1  OAS2_0001  OAS2_0001_MR2  Nondemented      2       457   M    R   88    14   \n",
              "2  OAS2_0002  OAS2_0002_MR1     Demented      1         0   M    R   75    12   \n",
              "3  OAS2_0002  OAS2_0002_MR2     Demented      2       560   M    R   76    12   \n",
              "4  OAS2_0002  OAS2_0002_MR3     Demented      3      1895   M    R   80    12   \n",
              "\n",
              "   SES  MMSE  CDR  eTIV   nWBV    ASF  \n",
              "0  2.0  27.0  0.0  1987  0.696  0.883  \n",
              "1  2.0  30.0  0.0  2004  0.681  0.876  \n",
              "2  NaN  23.0  0.5  1678  0.736  1.046  \n",
              "3  NaN  28.0  0.5  1738  0.713  1.010  \n",
              "4  NaN  22.0  0.5  1698  0.701  1.034  "
            ],
            "text/html": [
              "\n",
              "  <div id=\"df-e95068c7-c0c1-49e6-9f19-067024f7e43a\">\n",
              "    <div class=\"colab-df-container\">\n",
              "      <div>\n",
              "<style scoped>\n",
              "    .dataframe tbody tr th:only-of-type {\n",
              "        vertical-align: middle;\n",
              "    }\n",
              "\n",
              "    .dataframe tbody tr th {\n",
              "        vertical-align: top;\n",
              "    }\n",
              "\n",
              "    .dataframe thead th {\n",
              "        text-align: right;\n",
              "    }\n",
              "</style>\n",
              "<table border=\"1\" class=\"dataframe\">\n",
              "  <thead>\n",
              "    <tr style=\"text-align: right;\">\n",
              "      <th></th>\n",
              "      <th>Subject ID</th>\n",
              "      <th>MRI ID</th>\n",
              "      <th>Group</th>\n",
              "      <th>Visit</th>\n",
              "      <th>MR Delay</th>\n",
              "      <th>M/F</th>\n",
              "      <th>Hand</th>\n",
              "      <th>Age</th>\n",
              "      <th>EDUC</th>\n",
              "      <th>SES</th>\n",
              "      <th>MMSE</th>\n",
              "      <th>CDR</th>\n",
              "      <th>eTIV</th>\n",
              "      <th>nWBV</th>\n",
              "      <th>ASF</th>\n",
              "    </tr>\n",
              "  </thead>\n",
              "  <tbody>\n",
              "    <tr>\n",
              "      <th>0</th>\n",
              "      <td>OAS2_0001</td>\n",
              "      <td>OAS2_0001_MR1</td>\n",
              "      <td>Nondemented</td>\n",
              "      <td>1</td>\n",
              "      <td>0</td>\n",
              "      <td>M</td>\n",
              "      <td>R</td>\n",
              "      <td>87</td>\n",
              "      <td>14</td>\n",
              "      <td>2.0</td>\n",
              "      <td>27.0</td>\n",
              "      <td>0.0</td>\n",
              "      <td>1987</td>\n",
              "      <td>0.696</td>\n",
              "      <td>0.883</td>\n",
              "    </tr>\n",
              "    <tr>\n",
              "      <th>1</th>\n",
              "      <td>OAS2_0001</td>\n",
              "      <td>OAS2_0001_MR2</td>\n",
              "      <td>Nondemented</td>\n",
              "      <td>2</td>\n",
              "      <td>457</td>\n",
              "      <td>M</td>\n",
              "      <td>R</td>\n",
              "      <td>88</td>\n",
              "      <td>14</td>\n",
              "      <td>2.0</td>\n",
              "      <td>30.0</td>\n",
              "      <td>0.0</td>\n",
              "      <td>2004</td>\n",
              "      <td>0.681</td>\n",
              "      <td>0.876</td>\n",
              "    </tr>\n",
              "    <tr>\n",
              "      <th>2</th>\n",
              "      <td>OAS2_0002</td>\n",
              "      <td>OAS2_0002_MR1</td>\n",
              "      <td>Demented</td>\n",
              "      <td>1</td>\n",
              "      <td>0</td>\n",
              "      <td>M</td>\n",
              "      <td>R</td>\n",
              "      <td>75</td>\n",
              "      <td>12</td>\n",
              "      <td>NaN</td>\n",
              "      <td>23.0</td>\n",
              "      <td>0.5</td>\n",
              "      <td>1678</td>\n",
              "      <td>0.736</td>\n",
              "      <td>1.046</td>\n",
              "    </tr>\n",
              "    <tr>\n",
              "      <th>3</th>\n",
              "      <td>OAS2_0002</td>\n",
              "      <td>OAS2_0002_MR2</td>\n",
              "      <td>Demented</td>\n",
              "      <td>2</td>\n",
              "      <td>560</td>\n",
              "      <td>M</td>\n",
              "      <td>R</td>\n",
              "      <td>76</td>\n",
              "      <td>12</td>\n",
              "      <td>NaN</td>\n",
              "      <td>28.0</td>\n",
              "      <td>0.5</td>\n",
              "      <td>1738</td>\n",
              "      <td>0.713</td>\n",
              "      <td>1.010</td>\n",
              "    </tr>\n",
              "    <tr>\n",
              "      <th>4</th>\n",
              "      <td>OAS2_0002</td>\n",
              "      <td>OAS2_0002_MR3</td>\n",
              "      <td>Demented</td>\n",
              "      <td>3</td>\n",
              "      <td>1895</td>\n",
              "      <td>M</td>\n",
              "      <td>R</td>\n",
              "      <td>80</td>\n",
              "      <td>12</td>\n",
              "      <td>NaN</td>\n",
              "      <td>22.0</td>\n",
              "      <td>0.5</td>\n",
              "      <td>1698</td>\n",
              "      <td>0.701</td>\n",
              "      <td>1.034</td>\n",
              "    </tr>\n",
              "  </tbody>\n",
              "</table>\n",
              "</div>\n",
              "      <button class=\"colab-df-convert\" onclick=\"convertToInteractive('df-e95068c7-c0c1-49e6-9f19-067024f7e43a')\"\n",
              "              title=\"Convert this dataframe to an interactive table.\"\n",
              "              style=\"display:none;\">\n",
              "        \n",
              "  <svg xmlns=\"http://www.w3.org/2000/svg\" height=\"24px\"viewBox=\"0 0 24 24\"\n",
              "       width=\"24px\">\n",
              "    <path d=\"M0 0h24v24H0V0z\" fill=\"none\"/>\n",
              "    <path d=\"M18.56 5.44l.94 2.06.94-2.06 2.06-.94-2.06-.94-.94-2.06-.94 2.06-2.06.94zm-11 1L8.5 8.5l.94-2.06 2.06-.94-2.06-.94L8.5 2.5l-.94 2.06-2.06.94zm10 10l.94 2.06.94-2.06 2.06-.94-2.06-.94-.94-2.06-.94 2.06-2.06.94z\"/><path d=\"M17.41 7.96l-1.37-1.37c-.4-.4-.92-.59-1.43-.59-.52 0-1.04.2-1.43.59L10.3 9.45l-7.72 7.72c-.78.78-.78 2.05 0 2.83L4 21.41c.39.39.9.59 1.41.59.51 0 1.02-.2 1.41-.59l7.78-7.78 2.81-2.81c.8-.78.8-2.07 0-2.86zM5.41 20L4 18.59l7.72-7.72 1.47 1.35L5.41 20z\"/>\n",
              "  </svg>\n",
              "      </button>\n",
              "      \n",
              "  <style>\n",
              "    .colab-df-container {\n",
              "      display:flex;\n",
              "      flex-wrap:wrap;\n",
              "      gap: 12px;\n",
              "    }\n",
              "\n",
              "    .colab-df-convert {\n",
              "      background-color: #E8F0FE;\n",
              "      border: none;\n",
              "      border-radius: 50%;\n",
              "      cursor: pointer;\n",
              "      display: none;\n",
              "      fill: #1967D2;\n",
              "      height: 32px;\n",
              "      padding: 0 0 0 0;\n",
              "      width: 32px;\n",
              "    }\n",
              "\n",
              "    .colab-df-convert:hover {\n",
              "      background-color: #E2EBFA;\n",
              "      box-shadow: 0px 1px 2px rgba(60, 64, 67, 0.3), 0px 1px 3px 1px rgba(60, 64, 67, 0.15);\n",
              "      fill: #174EA6;\n",
              "    }\n",
              "\n",
              "    [theme=dark] .colab-df-convert {\n",
              "      background-color: #3B4455;\n",
              "      fill: #D2E3FC;\n",
              "    }\n",
              "\n",
              "    [theme=dark] .colab-df-convert:hover {\n",
              "      background-color: #434B5C;\n",
              "      box-shadow: 0px 1px 3px 1px rgba(0, 0, 0, 0.15);\n",
              "      filter: drop-shadow(0px 1px 2px rgba(0, 0, 0, 0.3));\n",
              "      fill: #FFFFFF;\n",
              "    }\n",
              "  </style>\n",
              "\n",
              "      <script>\n",
              "        const buttonEl =\n",
              "          document.querySelector('#df-e95068c7-c0c1-49e6-9f19-067024f7e43a button.colab-df-convert');\n",
              "        buttonEl.style.display =\n",
              "          google.colab.kernel.accessAllowed ? 'block' : 'none';\n",
              "\n",
              "        async function convertToInteractive(key) {\n",
              "          const element = document.querySelector('#df-e95068c7-c0c1-49e6-9f19-067024f7e43a');\n",
              "          const dataTable =\n",
              "            await google.colab.kernel.invokeFunction('convertToInteractive',\n",
              "                                                     [key], {});\n",
              "          if (!dataTable) return;\n",
              "\n",
              "          const docLinkHtml = 'Like what you see? Visit the ' +\n",
              "            '<a target=\"_blank\" href=https://colab.research.google.com/notebooks/data_table.ipynb>data table notebook</a>'\n",
              "            + ' to learn more about interactive tables.';\n",
              "          element.innerHTML = '';\n",
              "          dataTable['output_type'] = 'display_data';\n",
              "          await google.colab.output.renderOutput(dataTable, element);\n",
              "          const docLink = document.createElement('div');\n",
              "          docLink.innerHTML = docLinkHtml;\n",
              "          element.appendChild(docLink);\n",
              "        }\n",
              "      </script>\n",
              "    </div>\n",
              "  </div>\n",
              "  "
            ]
          },
          "metadata": {},
          "execution_count": 4
        }
      ]
    },
    {
      "cell_type": "code",
      "source": [
        "#descriptive statistics of data\n",
        "longitudinal_data.describe()"
      ],
      "metadata": {
        "colab": {
          "base_uri": "https://localhost:8080/",
          "height": 300
        },
        "id": "9WfHpJwP5vaV",
        "outputId": "ccdf3e65-9739-465d-f6b8-57974c6630f3"
      },
      "execution_count": null,
      "outputs": [
        {
          "output_type": "execute_result",
          "data": {
            "text/plain": [
              "            Visit     MR Delay         Age        EDUC         SES  \\\n",
              "count  373.000000   373.000000  373.000000  373.000000  354.000000   \n",
              "mean     1.882038   595.104558   77.013405   14.597855    2.460452   \n",
              "std      0.922843   635.485118    7.640957    2.876339    1.134005   \n",
              "min      1.000000     0.000000   60.000000    6.000000    1.000000   \n",
              "25%      1.000000     0.000000   71.000000   12.000000    2.000000   \n",
              "50%      2.000000   552.000000   77.000000   15.000000    2.000000   \n",
              "75%      2.000000   873.000000   82.000000   16.000000    3.000000   \n",
              "max      5.000000  2639.000000   98.000000   23.000000    5.000000   \n",
              "\n",
              "             MMSE         CDR         eTIV        nWBV         ASF  \n",
              "count  371.000000  373.000000   373.000000  373.000000  373.000000  \n",
              "mean    27.342318    0.290885  1488.128686    0.729568    1.195461  \n",
              "std      3.683244    0.374557   176.139286    0.037135    0.138092  \n",
              "min      4.000000    0.000000  1106.000000    0.644000    0.876000  \n",
              "25%     27.000000    0.000000  1357.000000    0.700000    1.099000  \n",
              "50%     29.000000    0.000000  1470.000000    0.729000    1.194000  \n",
              "75%     30.000000    0.500000  1597.000000    0.756000    1.293000  \n",
              "max     30.000000    2.000000  2004.000000    0.837000    1.587000  "
            ],
            "text/html": [
              "\n",
              "  <div id=\"df-a76e1c6a-bae0-47f1-a882-6fab747479ee\">\n",
              "    <div class=\"colab-df-container\">\n",
              "      <div>\n",
              "<style scoped>\n",
              "    .dataframe tbody tr th:only-of-type {\n",
              "        vertical-align: middle;\n",
              "    }\n",
              "\n",
              "    .dataframe tbody tr th {\n",
              "        vertical-align: top;\n",
              "    }\n",
              "\n",
              "    .dataframe thead th {\n",
              "        text-align: right;\n",
              "    }\n",
              "</style>\n",
              "<table border=\"1\" class=\"dataframe\">\n",
              "  <thead>\n",
              "    <tr style=\"text-align: right;\">\n",
              "      <th></th>\n",
              "      <th>Visit</th>\n",
              "      <th>MR Delay</th>\n",
              "      <th>Age</th>\n",
              "      <th>EDUC</th>\n",
              "      <th>SES</th>\n",
              "      <th>MMSE</th>\n",
              "      <th>CDR</th>\n",
              "      <th>eTIV</th>\n",
              "      <th>nWBV</th>\n",
              "      <th>ASF</th>\n",
              "    </tr>\n",
              "  </thead>\n",
              "  <tbody>\n",
              "    <tr>\n",
              "      <th>count</th>\n",
              "      <td>373.000000</td>\n",
              "      <td>373.000000</td>\n",
              "      <td>373.000000</td>\n",
              "      <td>373.000000</td>\n",
              "      <td>354.000000</td>\n",
              "      <td>371.000000</td>\n",
              "      <td>373.000000</td>\n",
              "      <td>373.000000</td>\n",
              "      <td>373.000000</td>\n",
              "      <td>373.000000</td>\n",
              "    </tr>\n",
              "    <tr>\n",
              "      <th>mean</th>\n",
              "      <td>1.882038</td>\n",
              "      <td>595.104558</td>\n",
              "      <td>77.013405</td>\n",
              "      <td>14.597855</td>\n",
              "      <td>2.460452</td>\n",
              "      <td>27.342318</td>\n",
              "      <td>0.290885</td>\n",
              "      <td>1488.128686</td>\n",
              "      <td>0.729568</td>\n",
              "      <td>1.195461</td>\n",
              "    </tr>\n",
              "    <tr>\n",
              "      <th>std</th>\n",
              "      <td>0.922843</td>\n",
              "      <td>635.485118</td>\n",
              "      <td>7.640957</td>\n",
              "      <td>2.876339</td>\n",
              "      <td>1.134005</td>\n",
              "      <td>3.683244</td>\n",
              "      <td>0.374557</td>\n",
              "      <td>176.139286</td>\n",
              "      <td>0.037135</td>\n",
              "      <td>0.138092</td>\n",
              "    </tr>\n",
              "    <tr>\n",
              "      <th>min</th>\n",
              "      <td>1.000000</td>\n",
              "      <td>0.000000</td>\n",
              "      <td>60.000000</td>\n",
              "      <td>6.000000</td>\n",
              "      <td>1.000000</td>\n",
              "      <td>4.000000</td>\n",
              "      <td>0.000000</td>\n",
              "      <td>1106.000000</td>\n",
              "      <td>0.644000</td>\n",
              "      <td>0.876000</td>\n",
              "    </tr>\n",
              "    <tr>\n",
              "      <th>25%</th>\n",
              "      <td>1.000000</td>\n",
              "      <td>0.000000</td>\n",
              "      <td>71.000000</td>\n",
              "      <td>12.000000</td>\n",
              "      <td>2.000000</td>\n",
              "      <td>27.000000</td>\n",
              "      <td>0.000000</td>\n",
              "      <td>1357.000000</td>\n",
              "      <td>0.700000</td>\n",
              "      <td>1.099000</td>\n",
              "    </tr>\n",
              "    <tr>\n",
              "      <th>50%</th>\n",
              "      <td>2.000000</td>\n",
              "      <td>552.000000</td>\n",
              "      <td>77.000000</td>\n",
              "      <td>15.000000</td>\n",
              "      <td>2.000000</td>\n",
              "      <td>29.000000</td>\n",
              "      <td>0.000000</td>\n",
              "      <td>1470.000000</td>\n",
              "      <td>0.729000</td>\n",
              "      <td>1.194000</td>\n",
              "    </tr>\n",
              "    <tr>\n",
              "      <th>75%</th>\n",
              "      <td>2.000000</td>\n",
              "      <td>873.000000</td>\n",
              "      <td>82.000000</td>\n",
              "      <td>16.000000</td>\n",
              "      <td>3.000000</td>\n",
              "      <td>30.000000</td>\n",
              "      <td>0.500000</td>\n",
              "      <td>1597.000000</td>\n",
              "      <td>0.756000</td>\n",
              "      <td>1.293000</td>\n",
              "    </tr>\n",
              "    <tr>\n",
              "      <th>max</th>\n",
              "      <td>5.000000</td>\n",
              "      <td>2639.000000</td>\n",
              "      <td>98.000000</td>\n",
              "      <td>23.000000</td>\n",
              "      <td>5.000000</td>\n",
              "      <td>30.000000</td>\n",
              "      <td>2.000000</td>\n",
              "      <td>2004.000000</td>\n",
              "      <td>0.837000</td>\n",
              "      <td>1.587000</td>\n",
              "    </tr>\n",
              "  </tbody>\n",
              "</table>\n",
              "</div>\n",
              "      <button class=\"colab-df-convert\" onclick=\"convertToInteractive('df-a76e1c6a-bae0-47f1-a882-6fab747479ee')\"\n",
              "              title=\"Convert this dataframe to an interactive table.\"\n",
              "              style=\"display:none;\">\n",
              "        \n",
              "  <svg xmlns=\"http://www.w3.org/2000/svg\" height=\"24px\"viewBox=\"0 0 24 24\"\n",
              "       width=\"24px\">\n",
              "    <path d=\"M0 0h24v24H0V0z\" fill=\"none\"/>\n",
              "    <path d=\"M18.56 5.44l.94 2.06.94-2.06 2.06-.94-2.06-.94-.94-2.06-.94 2.06-2.06.94zm-11 1L8.5 8.5l.94-2.06 2.06-.94-2.06-.94L8.5 2.5l-.94 2.06-2.06.94zm10 10l.94 2.06.94-2.06 2.06-.94-2.06-.94-.94-2.06-.94 2.06-2.06.94z\"/><path d=\"M17.41 7.96l-1.37-1.37c-.4-.4-.92-.59-1.43-.59-.52 0-1.04.2-1.43.59L10.3 9.45l-7.72 7.72c-.78.78-.78 2.05 0 2.83L4 21.41c.39.39.9.59 1.41.59.51 0 1.02-.2 1.41-.59l7.78-7.78 2.81-2.81c.8-.78.8-2.07 0-2.86zM5.41 20L4 18.59l7.72-7.72 1.47 1.35L5.41 20z\"/>\n",
              "  </svg>\n",
              "      </button>\n",
              "      \n",
              "  <style>\n",
              "    .colab-df-container {\n",
              "      display:flex;\n",
              "      flex-wrap:wrap;\n",
              "      gap: 12px;\n",
              "    }\n",
              "\n",
              "    .colab-df-convert {\n",
              "      background-color: #E8F0FE;\n",
              "      border: none;\n",
              "      border-radius: 50%;\n",
              "      cursor: pointer;\n",
              "      display: none;\n",
              "      fill: #1967D2;\n",
              "      height: 32px;\n",
              "      padding: 0 0 0 0;\n",
              "      width: 32px;\n",
              "    }\n",
              "\n",
              "    .colab-df-convert:hover {\n",
              "      background-color: #E2EBFA;\n",
              "      box-shadow: 0px 1px 2px rgba(60, 64, 67, 0.3), 0px 1px 3px 1px rgba(60, 64, 67, 0.15);\n",
              "      fill: #174EA6;\n",
              "    }\n",
              "\n",
              "    [theme=dark] .colab-df-convert {\n",
              "      background-color: #3B4455;\n",
              "      fill: #D2E3FC;\n",
              "    }\n",
              "\n",
              "    [theme=dark] .colab-df-convert:hover {\n",
              "      background-color: #434B5C;\n",
              "      box-shadow: 0px 1px 3px 1px rgba(0, 0, 0, 0.15);\n",
              "      filter: drop-shadow(0px 1px 2px rgba(0, 0, 0, 0.3));\n",
              "      fill: #FFFFFF;\n",
              "    }\n",
              "  </style>\n",
              "\n",
              "      <script>\n",
              "        const buttonEl =\n",
              "          document.querySelector('#df-a76e1c6a-bae0-47f1-a882-6fab747479ee button.colab-df-convert');\n",
              "        buttonEl.style.display =\n",
              "          google.colab.kernel.accessAllowed ? 'block' : 'none';\n",
              "\n",
              "        async function convertToInteractive(key) {\n",
              "          const element = document.querySelector('#df-a76e1c6a-bae0-47f1-a882-6fab747479ee');\n",
              "          const dataTable =\n",
              "            await google.colab.kernel.invokeFunction('convertToInteractive',\n",
              "                                                     [key], {});\n",
              "          if (!dataTable) return;\n",
              "\n",
              "          const docLinkHtml = 'Like what you see? Visit the ' +\n",
              "            '<a target=\"_blank\" href=https://colab.research.google.com/notebooks/data_table.ipynb>data table notebook</a>'\n",
              "            + ' to learn more about interactive tables.';\n",
              "          element.innerHTML = '';\n",
              "          dataTable['output_type'] = 'display_data';\n",
              "          await google.colab.output.renderOutput(dataTable, element);\n",
              "          const docLink = document.createElement('div');\n",
              "          docLink.innerHTML = docLinkHtml;\n",
              "          element.appendChild(docLink);\n",
              "        }\n",
              "      </script>\n",
              "    </div>\n",
              "  </div>\n",
              "  "
            ]
          },
          "metadata": {},
          "execution_count": 5
        }
      ]
    },
    {
      "cell_type": "markdown",
      "source": [
        "## Data preprocessing"
      ],
      "metadata": {
        "id": "sU0L8nV7OEyX"
      }
    },
    {
      "cell_type": "code",
      "source": [
        "# renaming the M/F column as gender\n",
        "longitudinal_data.rename(columns = {'M/F':'gender'},inplace= True)\n"
      ],
      "metadata": {
        "id": "t_yDuSQLBn5n"
      },
      "execution_count": null,
      "outputs": []
    },
    {
      "cell_type": "code",
      "source": [
        "# dropping the ID column\n",
        "longitudinal_data.drop(['Subject ID','MRI ID',],inplace=True,axis=1)"
      ],
      "metadata": {
        "id": "rys5MbYzEL8Q"
      },
      "execution_count": null,
      "outputs": []
    },
    {
      "cell_type": "code",
      "source": [
        "#dataframe information\n",
        "#columns null values data types\n",
        "longitudinal_data.info()"
      ],
      "metadata": {
        "colab": {
          "base_uri": "https://localhost:8080/"
        },
        "id": "AUhHXu9H50LI",
        "outputId": "aee5e878-ccc4-4465-ad91-8d62a30fcc8d"
      },
      "execution_count": null,
      "outputs": [
        {
          "output_type": "stream",
          "name": "stdout",
          "text": [
            "<class 'pandas.core.frame.DataFrame'>\n",
            "RangeIndex: 373 entries, 0 to 372\n",
            "Data columns (total 13 columns):\n",
            " #   Column    Non-Null Count  Dtype  \n",
            "---  ------    --------------  -----  \n",
            " 0   Group     373 non-null    object \n",
            " 1   Visit     373 non-null    int64  \n",
            " 2   MR Delay  373 non-null    int64  \n",
            " 3   gender    373 non-null    object \n",
            " 4   Hand      373 non-null    object \n",
            " 5   Age       373 non-null    int64  \n",
            " 6   EDUC      373 non-null    int64  \n",
            " 7   SES       354 non-null    float64\n",
            " 8   MMSE      371 non-null    float64\n",
            " 9   CDR       373 non-null    float64\n",
            " 10  eTIV      373 non-null    int64  \n",
            " 11  nWBV      373 non-null    float64\n",
            " 12  ASF       373 non-null    float64\n",
            "dtypes: float64(5), int64(5), object(3)\n",
            "memory usage: 38.0+ KB\n"
          ]
        }
      ]
    },
    {
      "cell_type": "markdown",
      "source": [
        "🔑 Except Group, gender and Hand all other values are numerical values.    \n",
        "⏭ Next step is to Label encoding the object columns"
      ],
      "metadata": {
        "id": "fDZlNdeaBTmn"
      }
    },
    {
      "cell_type": "markdown",
      "source": [
        "Label encoding the object columns"
      ],
      "metadata": {
        "id": "mMpdekWEPuTF"
      }
    },
    {
      "cell_type": "code",
      "source": [
        "#extracting categorical columns from dataframe\n",
        "obj_cols = list(longitudinal_data.select_dtypes(include = 'object').columns)\n"
      ],
      "metadata": {
        "id": "OjdQlN2NPtLs"
      },
      "execution_count": null,
      "outputs": []
    },
    {
      "cell_type": "code",
      "source": [
        "# unique target values\n",
        "longitudinal_data['Group'].unique()"
      ],
      "metadata": {
        "colab": {
          "base_uri": "https://localhost:8080/"
        },
        "id": "5z-5T7lwxsjl",
        "outputId": "6eca5e12-c0f7-48e3-b364-92e8d60b7a7d"
      },
      "execution_count": null,
      "outputs": [
        {
          "output_type": "execute_result",
          "data": {
            "text/plain": [
              "array(['Nondemented', 'Demented', 'Converted'], dtype=object)"
            ]
          },
          "metadata": {},
          "execution_count": 10
        }
      ]
    },
    {
      "cell_type": "code",
      "source": [
        "#instantiate label encoder object\n",
        "le = LabelEncoder()\n",
        "\n",
        "#Applying le on categorical columns\n",
        "encoders = {}\n",
        "for i in obj_cols:\n",
        "    encoders[i] = le\n",
        "    longitudinal_data[i] = encoders[i].fit_transform(longitudinal_data[i])"
      ],
      "metadata": {
        "id": "1YnatfQjRuCj"
      },
      "execution_count": null,
      "outputs": []
    },
    {
      "cell_type": "code",
      "source": [
        "label_object = {}\n",
        "categorical_columns = obj_cols\n",
        "for col in categorical_columns:\n",
        "   labelencoder = LabelEncoder()\n",
        "   labelencoder.fit(longitudinal_data[col])\n",
        "   longitudinal_data[col] = labelencoder.fit_transform(longitudinal_data[col])\n",
        "   label_object[col] = labelencoder\n"
      ],
      "metadata": {
        "id": "K8nOKzAJOVle"
      },
      "execution_count": null,
      "outputs": []
    },
    {
      "cell_type": "markdown",
      "source": [],
      "metadata": {
        "id": "CdmAN7DCOVQj"
      }
    },
    {
      "cell_type": "code",
      "source": [
        "# checking object columns\n",
        "longitudinal_data[obj_cols]"
      ],
      "metadata": {
        "colab": {
          "base_uri": "https://localhost:8080/",
          "height": 424
        },
        "id": "Ep37XRAfS0QQ",
        "outputId": "9527ba18-114f-4bd4-fc1f-148ca280a92d"
      },
      "execution_count": null,
      "outputs": [
        {
          "output_type": "execute_result",
          "data": {
            "text/plain": [
              "     Group  gender  Hand\n",
              "0        2       1     0\n",
              "1        2       1     0\n",
              "2        1       1     0\n",
              "3        1       1     0\n",
              "4        1       1     0\n",
              "..     ...     ...   ...\n",
              "368      1       1     0\n",
              "369      1       1     0\n",
              "370      2       0     0\n",
              "371      2       0     0\n",
              "372      2       0     0\n",
              "\n",
              "[373 rows x 3 columns]"
            ],
            "text/html": [
              "\n",
              "  <div id=\"df-de9d29e1-a1d7-4f8a-ba39-6c9684f7cc89\">\n",
              "    <div class=\"colab-df-container\">\n",
              "      <div>\n",
              "<style scoped>\n",
              "    .dataframe tbody tr th:only-of-type {\n",
              "        vertical-align: middle;\n",
              "    }\n",
              "\n",
              "    .dataframe tbody tr th {\n",
              "        vertical-align: top;\n",
              "    }\n",
              "\n",
              "    .dataframe thead th {\n",
              "        text-align: right;\n",
              "    }\n",
              "</style>\n",
              "<table border=\"1\" class=\"dataframe\">\n",
              "  <thead>\n",
              "    <tr style=\"text-align: right;\">\n",
              "      <th></th>\n",
              "      <th>Group</th>\n",
              "      <th>gender</th>\n",
              "      <th>Hand</th>\n",
              "    </tr>\n",
              "  </thead>\n",
              "  <tbody>\n",
              "    <tr>\n",
              "      <th>0</th>\n",
              "      <td>2</td>\n",
              "      <td>1</td>\n",
              "      <td>0</td>\n",
              "    </tr>\n",
              "    <tr>\n",
              "      <th>1</th>\n",
              "      <td>2</td>\n",
              "      <td>1</td>\n",
              "      <td>0</td>\n",
              "    </tr>\n",
              "    <tr>\n",
              "      <th>2</th>\n",
              "      <td>1</td>\n",
              "      <td>1</td>\n",
              "      <td>0</td>\n",
              "    </tr>\n",
              "    <tr>\n",
              "      <th>3</th>\n",
              "      <td>1</td>\n",
              "      <td>1</td>\n",
              "      <td>0</td>\n",
              "    </tr>\n",
              "    <tr>\n",
              "      <th>4</th>\n",
              "      <td>1</td>\n",
              "      <td>1</td>\n",
              "      <td>0</td>\n",
              "    </tr>\n",
              "    <tr>\n",
              "      <th>...</th>\n",
              "      <td>...</td>\n",
              "      <td>...</td>\n",
              "      <td>...</td>\n",
              "    </tr>\n",
              "    <tr>\n",
              "      <th>368</th>\n",
              "      <td>1</td>\n",
              "      <td>1</td>\n",
              "      <td>0</td>\n",
              "    </tr>\n",
              "    <tr>\n",
              "      <th>369</th>\n",
              "      <td>1</td>\n",
              "      <td>1</td>\n",
              "      <td>0</td>\n",
              "    </tr>\n",
              "    <tr>\n",
              "      <th>370</th>\n",
              "      <td>2</td>\n",
              "      <td>0</td>\n",
              "      <td>0</td>\n",
              "    </tr>\n",
              "    <tr>\n",
              "      <th>371</th>\n",
              "      <td>2</td>\n",
              "      <td>0</td>\n",
              "      <td>0</td>\n",
              "    </tr>\n",
              "    <tr>\n",
              "      <th>372</th>\n",
              "      <td>2</td>\n",
              "      <td>0</td>\n",
              "      <td>0</td>\n",
              "    </tr>\n",
              "  </tbody>\n",
              "</table>\n",
              "<p>373 rows × 3 columns</p>\n",
              "</div>\n",
              "      <button class=\"colab-df-convert\" onclick=\"convertToInteractive('df-de9d29e1-a1d7-4f8a-ba39-6c9684f7cc89')\"\n",
              "              title=\"Convert this dataframe to an interactive table.\"\n",
              "              style=\"display:none;\">\n",
              "        \n",
              "  <svg xmlns=\"http://www.w3.org/2000/svg\" height=\"24px\"viewBox=\"0 0 24 24\"\n",
              "       width=\"24px\">\n",
              "    <path d=\"M0 0h24v24H0V0z\" fill=\"none\"/>\n",
              "    <path d=\"M18.56 5.44l.94 2.06.94-2.06 2.06-.94-2.06-.94-.94-2.06-.94 2.06-2.06.94zm-11 1L8.5 8.5l.94-2.06 2.06-.94-2.06-.94L8.5 2.5l-.94 2.06-2.06.94zm10 10l.94 2.06.94-2.06 2.06-.94-2.06-.94-.94-2.06-.94 2.06-2.06.94z\"/><path d=\"M17.41 7.96l-1.37-1.37c-.4-.4-.92-.59-1.43-.59-.52 0-1.04.2-1.43.59L10.3 9.45l-7.72 7.72c-.78.78-.78 2.05 0 2.83L4 21.41c.39.39.9.59 1.41.59.51 0 1.02-.2 1.41-.59l7.78-7.78 2.81-2.81c.8-.78.8-2.07 0-2.86zM5.41 20L4 18.59l7.72-7.72 1.47 1.35L5.41 20z\"/>\n",
              "  </svg>\n",
              "      </button>\n",
              "      \n",
              "  <style>\n",
              "    .colab-df-container {\n",
              "      display:flex;\n",
              "      flex-wrap:wrap;\n",
              "      gap: 12px;\n",
              "    }\n",
              "\n",
              "    .colab-df-convert {\n",
              "      background-color: #E8F0FE;\n",
              "      border: none;\n",
              "      border-radius: 50%;\n",
              "      cursor: pointer;\n",
              "      display: none;\n",
              "      fill: #1967D2;\n",
              "      height: 32px;\n",
              "      padding: 0 0 0 0;\n",
              "      width: 32px;\n",
              "    }\n",
              "\n",
              "    .colab-df-convert:hover {\n",
              "      background-color: #E2EBFA;\n",
              "      box-shadow: 0px 1px 2px rgba(60, 64, 67, 0.3), 0px 1px 3px 1px rgba(60, 64, 67, 0.15);\n",
              "      fill: #174EA6;\n",
              "    }\n",
              "\n",
              "    [theme=dark] .colab-df-convert {\n",
              "      background-color: #3B4455;\n",
              "      fill: #D2E3FC;\n",
              "    }\n",
              "\n",
              "    [theme=dark] .colab-df-convert:hover {\n",
              "      background-color: #434B5C;\n",
              "      box-shadow: 0px 1px 3px 1px rgba(0, 0, 0, 0.15);\n",
              "      filter: drop-shadow(0px 1px 2px rgba(0, 0, 0, 0.3));\n",
              "      fill: #FFFFFF;\n",
              "    }\n",
              "  </style>\n",
              "\n",
              "      <script>\n",
              "        const buttonEl =\n",
              "          document.querySelector('#df-de9d29e1-a1d7-4f8a-ba39-6c9684f7cc89 button.colab-df-convert');\n",
              "        buttonEl.style.display =\n",
              "          google.colab.kernel.accessAllowed ? 'block' : 'none';\n",
              "\n",
              "        async function convertToInteractive(key) {\n",
              "          const element = document.querySelector('#df-de9d29e1-a1d7-4f8a-ba39-6c9684f7cc89');\n",
              "          const dataTable =\n",
              "            await google.colab.kernel.invokeFunction('convertToInteractive',\n",
              "                                                     [key], {});\n",
              "          if (!dataTable) return;\n",
              "\n",
              "          const docLinkHtml = 'Like what you see? Visit the ' +\n",
              "            '<a target=\"_blank\" href=https://colab.research.google.com/notebooks/data_table.ipynb>data table notebook</a>'\n",
              "            + ' to learn more about interactive tables.';\n",
              "          element.innerHTML = '';\n",
              "          dataTable['output_type'] = 'display_data';\n",
              "          await google.colab.output.renderOutput(dataTable, element);\n",
              "          const docLink = document.createElement('div');\n",
              "          docLink.innerHTML = docLinkHtml;\n",
              "          element.appendChild(docLink);\n",
              "        }\n",
              "      </script>\n",
              "    </div>\n",
              "  </div>\n",
              "  "
            ]
          },
          "metadata": {},
          "execution_count": 13
        }
      ]
    },
    {
      "cell_type": "markdown",
      "source": [],
      "metadata": {
        "id": "qiVd5FE1eRke"
      }
    },
    {
      "cell_type": "markdown",
      "source": [
        "Encodings:\n"
      ],
      "metadata": {
        "id": "WT-CC6MjiOGw"
      }
    },
    {
      "cell_type": "markdown",
      "source": [
        "## Null value visualization"
      ],
      "metadata": {
        "id": "L6_b-VxHATp1"
      }
    },
    {
      "cell_type": "code",
      "source": [
        "plt.style.use('Solarize_Light2')\n",
        "longitudinal_data.isna().sum()[longitudinal_data.isna().sum()>0].plot(kind='bar')\n",
        "plt.show()"
      ],
      "metadata": {
        "colab": {
          "base_uri": "https://localhost:8080/",
          "height": 285
        },
        "id": "Qs2DBXAr_f2Z",
        "outputId": "272e0ae6-1dc7-4ef4-d325-cb3feeaa5088"
      },
      "execution_count": null,
      "outputs": [
        {
          "output_type": "display_data",
          "data": {
            "text/plain": [
              "<Figure size 432x288 with 1 Axes>"
            ],
            "image/png": "[encoded data removed]"
          },
          "metadata": {}
        }
      ]
    },
    {
      "cell_type": "markdown",
      "source": [
        "\n",
        "*  Out of 13 parameters 2 parameters have null values\n",
        "*  SES column has highest null values in the dataset\n",
        "*   MMSE column has less null values compared to SES column\n",
        "*  Cleaning and filling the missing values through data imputation  is the next step\n",
        "\n",
        "\n",
        "\n"
      ],
      "metadata": {
        "id": "vMN8AOJrDpim"
      }
    },
    {
      "cell_type": "markdown",
      "source": [
        "Data Imputation"
      ],
      "metadata": {
        "id": "RxjtWYayPijk"
      }
    },
    {
      "cell_type": "code",
      "source": [
        "#filling missing values with median\n",
        "null_cols = longitudinal_data.columns[longitudinal_data.isnull().any()]\n",
        "longitudinal_data[null_cols] = longitudinal_data[null_cols].fillna(longitudinal_data[null_cols]).median()"
      ],
      "metadata": {
        "id": "Luud792GPkQg"
      },
      "execution_count": null,
      "outputs": []
    },
    {
      "cell_type": "code",
      "source": [
        "# checking the sum of null values is equal to zero or not\n",
        "longitudinal_data.isna().sum().sum()"
      ],
      "metadata": {
        "colab": {
          "base_uri": "https://localhost:8080/"
        },
        "id": "LDJqDyI2UvKo",
        "outputId": "c8f802a9-cd57-461d-b28b-40f9394889a7"
      },
      "execution_count": null,
      "outputs": [
        {
          "output_type": "execute_result",
          "data": {
            "text/plain": [
              "0"
            ]
          },
          "metadata": {},
          "execution_count": 16
        }
      ]
    },
    {
      "cell_type": "markdown",
      "source": [
        "## Exploratory Data Analysis"
      ],
      "metadata": {
        "id": "5Zlg6LezWAIQ"
      }
    },
    {
      "cell_type": "markdown",
      "source": [
        "Analysis of Age feature"
      ],
      "metadata": {
        "id": "qlHZ_iUrWxkD"
      }
    },
    {
      "cell_type": "code",
      "source": [
        "sns.color_palette(\"husl\", 9)\n",
        "sns.displot(data = longitudinal_data, x = 'Age',kde = True)\n",
        "plt.show()"
      ],
      "metadata": {
        "colab": {
          "base_uri": "https://localhost:8080/",
          "height": 369
        },
        "id": "ShOv9mnaVVdI",
        "outputId": "4e07fceb-0d11-45ef-99d9-42c294a054e2"
      },
      "execution_count": null,
      "outputs": [
        {
          "output_type": "display_data",
          "data": {
            "text/plain": [
              "<Figure size 360x360 with 1 Axes>"
            ],
            "image/png": "[encoded data removed]"
          },
          "metadata": {}
        }
      ]
    },
    {
      "cell_type": "markdown",
      "source": [
        "🗒 Maximum distribution is between 75-85"
      ],
      "metadata": {
        "id": "fgYzdUDKaM1o"
      }
    },
    {
      "cell_type": "markdown",
      "source": [
        "Gender distribution"
      ],
      "metadata": {
        "id": "y6x_AHbHbRzm"
      }
    },
    {
      "cell_type": "code",
      "source": [
        "sns.countplot(data = longitudinal_data, x = 'gender', hue = 'Group')\n",
        "plt.show()"
      ],
      "metadata": {
        "colab": {
          "base_uri": "https://localhost:8080/",
          "height": 282
        },
        "id": "Pk3MPjHIXlMH",
        "outputId": "c8c54934-9ea0-4c3c-b6e0-f1dc4ce92bc4"
      },
      "execution_count": null,
      "outputs": [
        {
          "output_type": "display_data",
          "data": {
            "text/plain": [
              "<Figure size 432x288 with 1 Axes>"
            ],
            "image/png": "[encoded data removed]"
          },
          "metadata": {}
        }
      ]
    },
    {
      "cell_type": "code",
      "source": [
        "#distribution of targets\n",
        "longitudinal_data['Group'].value_counts().plot.pie(autopct='%1.1f%%')\n",
        "plt.show()"
      ],
      "metadata": {
        "colab": {
          "base_uri": "https://localhost:8080/",
          "height": 248
        },
        "id": "6EWJLbmqbs0-",
        "outputId": "be545036-a70e-42e0-ddea-30d79d8d47fd"
      },
      "execution_count": null,
      "outputs": [
        {
          "output_type": "display_data",
          "data": {
            "text/plain": [
              "<Figure size 432x288 with 1 Axes>"
            ],
            "image/png": "[encoded data removed]"
          },
          "metadata": {}
        }
      ]
    },
    {
      "cell_type": "code",
      "source": [
        "# eTIV\n",
        "\n",
        "sns.boxplot(data = longitudinal_data,x='eTIV')\n",
        "plt.show()"
      ],
      "metadata": {
        "colab": {
          "base_uri": "https://localhost:8080/",
          "height": 282
        },
        "id": "SausuU141DCW",
        "outputId": "f9888e05-04ff-4abf-ea4b-2320eab5e3a8"
      },
      "execution_count": null,
      "outputs": [
        {
          "output_type": "display_data",
          "data": {
            "text/plain": [
              "<Figure size 432x288 with 1 Axes>"
            ],
            "image/png": "[encoded data removed]"
          },
          "metadata": {}
        }
      ]
    },
    {
      "cell_type": "markdown",
      "source": [
        "✴ No Outliers"
      ],
      "metadata": {
        "id": "vL0R0SiY6nwM"
      }
    },
    {
      "cell_type": "code",
      "source": [
        "\n",
        "sns.boxplot(data = longitudinal_data,x='ASF')\n",
        "plt.show()"
      ],
      "metadata": {
        "colab": {
          "base_uri": "https://localhost:8080/",
          "height": 282
        },
        "id": "rIT5de2l5ZgJ",
        "outputId": "5b5cfa26-8dfa-43b4-d5a1-cae4278932b5"
      },
      "execution_count": null,
      "outputs": [
        {
          "output_type": "display_data",
          "data": {
            "text/plain": [
              "<Figure size 432x288 with 1 Axes>"
            ],
            "image/png": "[encoded data removed]"
          },
          "metadata": {}
        }
      ]
    },
    {
      "cell_type": "code",
      "source": [
        "sns.scatterplot(data=longitudinal_data, y=\"MR Delay\", x=\"gender\",hue = 'Group')\n",
        "plt.show()"
      ],
      "metadata": {
        "colab": {
          "base_uri": "https://localhost:8080/",
          "height": 282
        },
        "id": "T8aWhqjn6ijH",
        "outputId": "72cd3113-d007-4c7b-a10d-272a6a6c8c96"
      },
      "execution_count": null,
      "outputs": [
        {
          "output_type": "display_data",
          "data": {
            "text/plain": [
              "<Figure size 432x288 with 1 Axes>"
            ],
            "image/png": "[encoded data removed]"
          },
          "metadata": {}
        }
      ]
    },
    {
      "cell_type": "markdown",
      "source": [
        "## Data splitting"
      ],
      "metadata": {
        "id": "FldYp0wUTCIl"
      }
    },
    {
      "cell_type": "code",
      "source": [
        "X = longitudinal_data.drop('Group',axis=1) #features\n",
        "y = longitudinal_data['Group'] #targets\n",
        "X_train,X_test,y_train,y_test = train_test_split(X,y,test_size = 0.2)"
      ],
      "metadata": {
        "id": "LSHfppYiTDxh"
      },
      "execution_count": null,
      "outputs": []
    },
    {
      "cell_type": "code",
      "source": [
        "print(f'X_train shape ---{X_train.shape}  X_test.shape-----{X_test.shape}')"
      ],
      "metadata": {
        "colab": {
          "base_uri": "https://localhost:8080/"
        },
        "id": "H2_fhyyTT7NO",
        "outputId": "2d98e854-4b4e-4cc9-df9d-abd8a7dc165c"
      },
      "execution_count": null,
      "outputs": [
        {
          "output_type": "stream",
          "name": "stdout",
          "text": [
            "X_train shape ---(298, 12)  X_test.shape-----(75, 12)\n"
          ]
        }
      ]
    },
    {
      "cell_type": "markdown",
      "source": [
        "## Ensemble modelling\n",
        "\n",
        "\n",
        "*  'Ensemble' in statistical terms considered as a group of similar systems or group of same systems with  different states\n",
        "*   Ensemble methods use combination of different models to improve the results of machine learning models\n",
        "> Bagging   \n",
        "> Boosting  \n",
        "> Voting classifier \n",
        "\n",
        "\n",
        "\n",
        "\n",
        "\n",
        "\n",
        "\n"
      ],
      "metadata": {
        "id": "mlKSsUIFYqbV"
      }
    },
    {
      "cell_type": "markdown",
      "source": [
        "## Bagging\n",
        "\n",
        "\n",
        "1.   A Bagging classifier is an ensemble meta-estimator that fits base classifiers each on random subsets of the original dataset and then aggregate their individual predictions (either by voting or by averaging) to form a final prediction.\n",
        "2. This algorithm encompasses several works from the literature.If samples are drawn with replacement, then the method is known as Bagging\n",
        "\n",
        "✌ Bagging is effective when the data is limited\n"
      ],
      "metadata": {
        "id": "ZEcUBo47TzkA"
      }
    },
    {
      "cell_type": "code",
      "source": [
        "\n",
        "# creating the list of classifiers\n",
        "rf =RandomForestClassifier() \n",
        "et = ExtraTreesClassifier()\n",
        "knn = KNeighborsClassifier()\n",
        "svc = SVC()\n",
        "rg = RidgeClassifier()\n",
        "\n",
        "estimator_list = [rf,et,knn,svc,rg]\n"
      ],
      "metadata": {
        "id": "9VhJajNNT0ei"
      },
      "execution_count": null,
      "outputs": []
    },
    {
      "cell_type": "markdown",
      "source": [
        "RandomForest classifier"
      ],
      "metadata": {
        "id": "4dWYaB_GiM0j"
      }
    },
    {
      "cell_type": "code",
      "source": [
        "#model creation and training\n",
        "bagging_random_forest = BaggingClassifier(rf,max_samples=0.4, max_features=10, random_state=20,oob_score = True)\n",
        "bagging_random_forest.fit(X_train,y_train)"
      ],
      "metadata": {
        "colab": {
          "base_uri": "https://localhost:8080/"
        },
        "id": "kamUOpjdb-0A",
        "outputId": "1eec6a77-debe-481d-b4c4-20b8bf63c283"
      },
      "execution_count": null,
      "outputs": [
        {
          "output_type": "execute_result",
          "data": {
            "text/plain": [
              "BaggingClassifier(base_estimator=RandomForestClassifier(), max_features=10,\n",
              "                  max_samples=0.4, oob_score=True, random_state=20)"
            ]
          },
          "metadata": {},
          "execution_count": 26
        }
      ]
    },
    {
      "cell_type": "code",
      "source": [
        "#predictions and accuracy\n",
        "y_pred_rf = bagging_random_forest.predict(X_test)\n",
        "random_forest_accuracy = round(accuracy_score(y_test, y_pred_rf),2)\n",
        "print('Accuracy of Random Forest is :',random_forest_accuracy)"
      ],
      "metadata": {
        "colab": {
          "base_uri": "https://localhost:8080/"
        },
        "id": "ttWXIbruhJhe",
        "outputId": "3e1e6a14-16af-46f4-d4f7-3f2449813de4"
      },
      "execution_count": null,
      "outputs": [
        {
          "output_type": "stream",
          "name": "stdout",
          "text": [
            "Accuracy of Random Forest is : 0.89\n"
          ]
        }
      ]
    },
    {
      "cell_type": "markdown",
      "source": [
        "Extra tree classifier"
      ],
      "metadata": {
        "id": "KCwuTuSniuYP"
      }
    },
    {
      "cell_type": "code",
      "source": [
        "#model creation and training\n",
        "bagging_extra_tree = BaggingClassifier(et,max_samples=0.4, max_features=8, random_state=20,oob_score = True)\n",
        "bagging_extra_tree.fit(X_train,y_train)"
      ],
      "metadata": {
        "colab": {
          "base_uri": "https://localhost:8080/"
        },
        "id": "wDg6UNcrh9QL",
        "outputId": "7c4fb4d6-0a7e-416a-e82a-a765fb6dd45a"
      },
      "execution_count": null,
      "outputs": [
        {
          "output_type": "execute_result",
          "data": {
            "text/plain": [
              "BaggingClassifier(base_estimator=ExtraTreesClassifier(), max_features=8,\n",
              "                  max_samples=0.4, oob_score=True, random_state=20)"
            ]
          },
          "metadata": {},
          "execution_count": 28
        }
      ]
    },
    {
      "cell_type": "code",
      "source": [
        "#predictions and accuracy\n",
        "y_pred_ex = bagging_extra_tree.predict(X_test)\n",
        "extra_tree_accuracy =  round(accuracy_score(y_test, y_pred_ex),2)\n",
        "print('Accuracy of Extra tree classifier is :',extra_tree_accuracy)"
      ],
      "metadata": {
        "colab": {
          "base_uri": "https://localhost:8080/"
        },
        "id": "xHcD_zoOiUV0",
        "outputId": "ffee3afe-2937-46d2-eea7-d192e9aea4d6"
      },
      "execution_count": null,
      "outputs": [
        {
          "output_type": "stream",
          "name": "stdout",
          "text": [
            "Accuracy of Extra tree classifier is : 0.89\n"
          ]
        }
      ]
    },
    {
      "cell_type": "markdown",
      "source": [
        "RidgeClassifier()"
      ],
      "metadata": {
        "id": "67H28bz9iz3d"
      }
    },
    {
      "cell_type": "code",
      "source": [
        "#model creation and training\n",
        "bagging_ridge = BaggingClassifier(rg,max_samples=0.4, max_features=10, random_state=20,oob_score = True)\n",
        "bagging_ridge.fit(X_train,y_train)"
      ],
      "metadata": {
        "colab": {
          "base_uri": "https://localhost:8080/"
        },
        "id": "DF1xHHb_izpM",
        "outputId": "667c1142-c4ab-44aa-b62d-59115cf3488c"
      },
      "execution_count": null,
      "outputs": [
        {
          "output_type": "execute_result",
          "data": {
            "text/plain": [
              "BaggingClassifier(base_estimator=RidgeClassifier(), max_features=10,\n",
              "                  max_samples=0.4, oob_score=True, random_state=20)"
            ]
          },
          "metadata": {},
          "execution_count": 30
        }
      ]
    },
    {
      "cell_type": "code",
      "source": [
        "#predictions and accuracy\n",
        "y_pred_ridge = bagging_ridge.predict(X_test)\n",
        "ridge_accuracy = round(accuracy_score(y_test, y_pred_ridge),2)\n",
        "print('Accuracy of ridge classifier is :',ridge_accuracy)"
      ],
      "metadata": {
        "colab": {
          "base_uri": "https://localhost:8080/"
        },
        "id": "oUb9JAR0iWel",
        "outputId": "2b8e4c4b-9062-4466-dfa4-b1df8c660b35"
      },
      "execution_count": null,
      "outputs": [
        {
          "output_type": "stream",
          "name": "stdout",
          "text": [
            "Accuracy of ridge classifier is : 0.89\n"
          ]
        }
      ]
    },
    {
      "cell_type": "markdown",
      "source": [
        "KNN Classifier"
      ],
      "metadata": {
        "id": "xhiXz_xwjSHN"
      }
    },
    {
      "cell_type": "code",
      "source": [
        "#model creation and training\n",
        "bagging_knn = BaggingClassifier(knn,max_samples=0.4, max_features=10, random_state=20,oob_score = True)\n",
        "bagging_knn.fit(X_train,y_train)"
      ],
      "metadata": {
        "colab": {
          "base_uri": "https://localhost:8080/"
        },
        "id": "4emTKrZCi594",
        "outputId": "beac5093-5a28-4527-84bc-704fc283d12c"
      },
      "execution_count": null,
      "outputs": [
        {
          "output_type": "execute_result",
          "data": {
            "text/plain": [
              "BaggingClassifier(base_estimator=KNeighborsClassifier(), max_features=10,\n",
              "                  max_samples=0.4, oob_score=True, random_state=20)"
            ]
          },
          "metadata": {},
          "execution_count": 32
        }
      ]
    },
    {
      "cell_type": "code",
      "source": [
        "#predictions and accuracy\n",
        "y_pred_knn = bagging_knn.predict(X_test)\n",
        "knn_accuracy = round(accuracy_score(y_test, y_pred_knn),2)\n",
        "print('Accuracy of ridge classifier is :',knn_accuracy)"
      ],
      "metadata": {
        "colab": {
          "base_uri": "https://localhost:8080/"
        },
        "id": "ocQxB1LBjand",
        "outputId": "a5dafe56-6327-417d-854d-5609a74a1d7a"
      },
      "execution_count": null,
      "outputs": [
        {
          "output_type": "stream",
          "name": "stdout",
          "text": [
            "Accuracy of ridge classifier is : 0.59\n"
          ]
        }
      ]
    },
    {
      "cell_type": "markdown",
      "source": [
        "SVM classifier"
      ],
      "metadata": {
        "id": "N0R0w6QJjf0g"
      }
    },
    {
      "cell_type": "code",
      "source": [
        "#model creation and training\n",
        "bagging_svm = BaggingClassifier(svc,max_samples=0.4, max_features=10, random_state=20,oob_score = True)\n",
        "bagging_svm.fit(X_train,y_train)"
      ],
      "metadata": {
        "colab": {
          "base_uri": "https://localhost:8080/"
        },
        "id": "UWLTQGDFjhW5",
        "outputId": "4ac3771f-db14-4d98-f343-fd53fbda6e1b"
      },
      "execution_count": null,
      "outputs": [
        {
          "output_type": "execute_result",
          "data": {
            "text/plain": [
              "BaggingClassifier(base_estimator=SVC(), max_features=10, max_samples=0.4,\n",
              "                  oob_score=True, random_state=20)"
            ]
          },
          "metadata": {},
          "execution_count": 34
        }
      ]
    },
    {
      "cell_type": "code",
      "source": [
        "#predictions and accuracy\n",
        "y_pred_svm = bagging_svm.predict(X_test)\n",
        "svm_accuracy = round(accuracy_score(y_test, y_pred_svm),2)\n",
        "print('Accuracy of ridge classifier is :',svm_accuracy)"
      ],
      "metadata": {
        "colab": {
          "base_uri": "https://localhost:8080/"
        },
        "id": "P5wYZrD-jlUN",
        "outputId": "866141bd-1643-4d52-b75a-9345e0566104"
      },
      "execution_count": null,
      "outputs": [
        {
          "output_type": "stream",
          "name": "stdout",
          "text": [
            "Accuracy of ridge classifier is : 0.56\n"
          ]
        }
      ]
    },
    {
      "cell_type": "markdown",
      "source": [
        "## Voting classifiers"
      ],
      "metadata": {
        "id": "ZeSnhT6-kO9O"
      }
    },
    {
      "cell_type": "code",
      "source": [
        "\n",
        "clf = [rf, et, knn, svc, rg]\n",
        "eclf = VotingClassifier(estimators=[('Random Forests', rf), ('Extra Trees', et), ('KNeighbors', knn), ('SVC', svc), ('Ridge Classifier', rg)], voting='hard')\n",
        "for clf, label in zip([rf, et, knn, svc, rg, eclf], ['Random Forest', 'Extra Trees', 'KNeighbors', 'SVC', 'Ridge Classifier', 'Ensemble']):\n",
        "    scores = cross_val_score(clf, X, y, cv=10, scoring='accuracy')\n",
        "    print(\"Accuracy: %0.2f (+/- %0.2f) [%s]\" % (scores.mean(), scores.std(), label))"
      ],
      "metadata": {
        "id": "oRes0NrvkRts",
        "colab": {
          "base_uri": "https://localhost:8080/"
        },
        "outputId": "e6587d1f-ab79-4996-d4dd-c7f9d3dd045a"
      },
      "execution_count": null,
      "outputs": [
        {
          "output_type": "stream",
          "name": "stdout",
          "text": [
            "Accuracy: 0.90 (+/- 0.03) [Random Forest]\n",
            "Accuracy: 0.89 (+/- 0.03) [Extra Trees]\n",
            "Accuracy: 0.47 (+/- 0.07) [KNeighbors]\n",
            "Accuracy: 0.51 (+/- 0.01) [SVC]\n",
            "Accuracy: 0.90 (+/- 0.02) [Ridge Classifier]\n",
            "Accuracy: 0.89 (+/- 0.03) [Ensemble]\n"
          ]
        }
      ]
    },
    {
      "cell_type": "markdown",
      "source": [
        "## Boosting Classifiers\n",
        "\n",
        "*  Boosting method in ensemble technique improves the results by training  the weak learners\n",
        "\n",
        "> AdaBoost algorithm   \n",
        "> GradientBoosting algorithm. \n",
        "\n",
        "\n",
        "\n",
        "\n",
        "\n"
      ],
      "metadata": {
        "id": "eNqewkQQxXz4"
      }
    },
    {
      "cell_type": "markdown",
      "source": [
        "AdaBoost\n",
        "\n",
        "\n",
        "*   AdaBoost is a Boosting algorithm which is used in classification problems.The weakness of the algorithm is identified by its error rate\n",
        "*   In each cycle it focuses on misclassified data points and increases the respective points wight so that the next learner can improve the results\n",
        "\n"
      ],
      "metadata": {
        "id": "8MvZMTcmIekA"
      }
    },
    {
      "cell_type": "markdown",
      "source": [
        "Implementation"
      ],
      "metadata": {
        "id": "VD4Dp1k0JS_L"
      }
    },
    {
      "cell_type": "code",
      "source": [
        "#adaboost algorithm\n",
        "ada_boost = AdaBoostClassifier(n_estimators=10, random_state=0)"
      ],
      "metadata": {
        "id": "2R8rfy6vIjBH"
      },
      "execution_count": null,
      "outputs": []
    },
    {
      "cell_type": "code",
      "source": [
        "#training\n",
        "ada_boost.fit(X_train, y_train)"
      ],
      "metadata": {
        "colab": {
          "base_uri": "https://localhost:8080/"
        },
        "id": "KBLFgrtRKXEL",
        "outputId": "313f231b-a3d1-4d8d-95fb-8035e3b3ee2b"
      },
      "execution_count": null,
      "outputs": [
        {
          "output_type": "execute_result",
          "data": {
            "text/plain": [
              "AdaBoostClassifier(n_estimators=10, random_state=0)"
            ]
          },
          "metadata": {},
          "execution_count": 38
        }
      ]
    },
    {
      "cell_type": "code",
      "source": [
        "#predictions\n",
        "y_pred_ada = ada_boost.predict(X_test)"
      ],
      "metadata": {
        "id": "w2wiV88Xe5ql"
      },
      "execution_count": null,
      "outputs": []
    },
    {
      "cell_type": "code",
      "source": [
        "#test accuracy\n",
        "ada_boost_accuracy = ada_boost.score(X_test, y_test)"
      ],
      "metadata": {
        "id": "8vXzzivjK5fo"
      },
      "execution_count": null,
      "outputs": []
    },
    {
      "cell_type": "markdown",
      "source": [
        "Gradient Boosting"
      ],
      "metadata": {
        "id": "7tmvO3b7Ij7p"
      }
    },
    {
      "cell_type": "code",
      "source": [
        "#gradient boosting algorithm\n",
        "gradient_boosting = GradientBoostingClassifier(n_estimators=10, learning_rate=1.0,max_depth=1, random_state=0)\n"
      ],
      "metadata": {
        "id": "u7RQReshXhjo"
      },
      "execution_count": null,
      "outputs": []
    },
    {
      "cell_type": "code",
      "source": [
        "#training\n",
        "gradient_boosting.fit(X_train, y_train)\n"
      ],
      "metadata": {
        "colab": {
          "base_uri": "https://localhost:8080/"
        },
        "id": "reQPM3n2X3od",
        "outputId": "69e13474-a3a0-420c-96f9-e45d3221364a"
      },
      "execution_count": null,
      "outputs": [
        {
          "output_type": "execute_result",
          "data": {
            "text/plain": [
              "GradientBoostingClassifier(learning_rate=1.0, max_depth=1, n_estimators=10,\n",
              "                           random_state=0)"
            ]
          },
          "metadata": {},
          "execution_count": 42
        }
      ]
    },
    {
      "cell_type": "code",
      "source": [
        "#predictions\n",
        "y_pred_gb = gradient_boosting.predict(X_test)"
      ],
      "metadata": {
        "id": "4TIJGYpgfSSf"
      },
      "execution_count": null,
      "outputs": []
    },
    {
      "cell_type": "code",
      "source": [
        "# testing accuracy\n",
        "gradient_boost_accuracy = gradient_boosting.score(X_test,y_test)"
      ],
      "metadata": {
        "id": "UxXYjvGvYJWE"
      },
      "execution_count": null,
      "outputs": []
    },
    {
      "cell_type": "markdown",
      "source": [
        "## Results Summary"
      ],
      "metadata": {
        "id": "VCI7Lc20GruF"
      }
    },
    {
      "cell_type": "code",
      "source": [
        "Accuracies = [random_forest_accuracy,extra_tree_accuracy,ridge_accuracy,\n",
        "              knn_accuracy,svm_accuracy,ada_boost_accuracy,gradient_boost_accuracy]\n",
        "clf = ['Random Forest','Extra_tree','Ridge','KNN','SVM','AdaBoost','Gradient Boost']\n",
        "result = pd.DataFrame({ 'Classifier':clf,'Accuracy': Accuracies})\n",
        "result.sort_values(by='Accuracy', ascending=False)"
      ],
      "metadata": {
        "colab": {
          "base_uri": "https://localhost:8080/",
          "height": 269
        },
        "id": "MUhqcE7Jyctq",
        "outputId": "a957ab8c-fe1e-45bd-ccdd-05cb0ca3f352"
      },
      "execution_count": null,
      "outputs": [
        {
          "output_type": "execute_result",
          "data": {
            "text/plain": [
              "       Classifier  Accuracy\n",
              "6  Gradient Boost  0.893333\n",
              "0   Random Forest  0.890000\n",
              "1      Extra_tree  0.890000\n",
              "2           Ridge  0.890000\n",
              "3             KNN  0.590000\n",
              "4             SVM  0.560000\n",
              "5        AdaBoost  0.520000"
            ],
            "text/html": [
              "\n",
              "  <div id=\"df-5dfa935c-19d0-4108-b197-17a952e495e2\">\n",
              "    <div class=\"colab-df-container\">\n",
              "      <div>\n",
              "<style scoped>\n",
              "    .dataframe tbody tr th:only-of-type {\n",
              "        vertical-align: middle;\n",
              "    }\n",
              "\n",
              "    .dataframe tbody tr th {\n",
              "        vertical-align: top;\n",
              "    }\n",
              "\n",
              "    .dataframe thead th {\n",
              "        text-align: right;\n",
              "    }\n",
              "</style>\n",
              "<table border=\"1\" class=\"dataframe\">\n",
              "  <thead>\n",
              "    <tr style=\"text-align: right;\">\n",
              "      <th></th>\n",
              "      <th>Classifier</th>\n",
              "      <th>Accuracy</th>\n",
              "    </tr>\n",
              "  </thead>\n",
              "  <tbody>\n",
              "    <tr>\n",
              "      <th>6</th>\n",
              "      <td>Gradient Boost</td>\n",
              "      <td>0.893333</td>\n",
              "    </tr>\n",
              "    <tr>\n",
              "      <th>0</th>\n",
              "      <td>Random Forest</td>\n",
              "      <td>0.890000</td>\n",
              "    </tr>\n",
              "    <tr>\n",
              "      <th>1</th>\n",
              "      <td>Extra_tree</td>\n",
              "      <td>0.890000</td>\n",
              "    </tr>\n",
              "    <tr>\n",
              "      <th>2</th>\n",
              "      <td>Ridge</td>\n",
              "      <td>0.890000</td>\n",
              "    </tr>\n",
              "    <tr>\n",
              "      <th>3</th>\n",
              "      <td>KNN</td>\n",
              "      <td>0.590000</td>\n",
              "    </tr>\n",
              "    <tr>\n",
              "      <th>4</th>\n",
              "      <td>SVM</td>\n",
              "      <td>0.560000</td>\n",
              "    </tr>\n",
              "    <tr>\n",
              "      <th>5</th>\n",
              "      <td>AdaBoost</td>\n",
              "      <td>0.520000</td>\n",
              "    </tr>\n",
              "  </tbody>\n",
              "</table>\n",
              "</div>\n",
              "      <button class=\"colab-df-convert\" onclick=\"convertToInteractive('df-5dfa935c-19d0-4108-b197-17a952e495e2')\"\n",
              "              title=\"Convert this dataframe to an interactive table.\"\n",
              "              style=\"display:none;\">\n",
              "        \n",
              "  <svg xmlns=\"http://www.w3.org/2000/svg\" height=\"24px\"viewBox=\"0 0 24 24\"\n",
              "       width=\"24px\">\n",
              "    <path d=\"M0 0h24v24H0V0z\" fill=\"none\"/>\n",
              "    <path d=\"M18.56 5.44l.94 2.06.94-2.06 2.06-.94-2.06-.94-.94-2.06-.94 2.06-2.06.94zm-11 1L8.5 8.5l.94-2.06 2.06-.94-2.06-.94L8.5 2.5l-.94 2.06-2.06.94zm10 10l.94 2.06.94-2.06 2.06-.94-2.06-.94-.94-2.06-.94 2.06-2.06.94z\"/><path d=\"M17.41 7.96l-1.37-1.37c-.4-.4-.92-.59-1.43-.59-.52 0-1.04.2-1.43.59L10.3 9.45l-7.72 7.72c-.78.78-.78 2.05 0 2.83L4 21.41c.39.39.9.59 1.41.59.51 0 1.02-.2 1.41-.59l7.78-7.78 2.81-2.81c.8-.78.8-2.07 0-2.86zM5.41 20L4 18.59l7.72-7.72 1.47 1.35L5.41 20z\"/>\n",
              "  </svg>\n",
              "      </button>\n",
              "      \n",
              "  <style>\n",
              "    .colab-df-container {\n",
              "      display:flex;\n",
              "      flex-wrap:wrap;\n",
              "      gap: 12px;\n",
              "    }\n",
              "\n",
              "    .colab-df-convert {\n",
              "      background-color: #E8F0FE;\n",
              "      border: none;\n",
              "      border-radius: 50%;\n",
              "      cursor: pointer;\n",
              "      display: none;\n",
              "      fill: #1967D2;\n",
              "      height: 32px;\n",
              "      padding: 0 0 0 0;\n",
              "      width: 32px;\n",
              "    }\n",
              "\n",
              "    .colab-df-convert:hover {\n",
              "      background-color: #E2EBFA;\n",
              "      box-shadow: 0px 1px 2px rgba(60, 64, 67, 0.3), 0px 1px 3px 1px rgba(60, 64, 67, 0.15);\n",
              "      fill: #174EA6;\n",
              "    }\n",
              "\n",
              "    [theme=dark] .colab-df-convert {\n",
              "      background-color: #3B4455;\n",
              "      fill: #D2E3FC;\n",
              "    }\n",
              "\n",
              "    [theme=dark] .colab-df-convert:hover {\n",
              "      background-color: #434B5C;\n",
              "      box-shadow: 0px 1px 3px 1px rgba(0, 0, 0, 0.15);\n",
              "      filter: drop-shadow(0px 1px 2px rgba(0, 0, 0, 0.3));\n",
              "      fill: #FFFFFF;\n",
              "    }\n",
              "  </style>\n",
              "\n",
              "      <script>\n",
              "        const buttonEl =\n",
              "          document.querySelector('#df-5dfa935c-19d0-4108-b197-17a952e495e2 button.colab-df-convert');\n",
              "        buttonEl.style.display =\n",
              "          google.colab.kernel.accessAllowed ? 'block' : 'none';\n",
              "\n",
              "        async function convertToInteractive(key) {\n",
              "          const element = document.querySelector('#df-5dfa935c-19d0-4108-b197-17a952e495e2');\n",
              "          const dataTable =\n",
              "            await google.colab.kernel.invokeFunction('convertToInteractive',\n",
              "                                                     [key], {});\n",
              "          if (!dataTable) return;\n",
              "\n",
              "          const docLinkHtml = 'Like what you see? Visit the ' +\n",
              "            '<a target=\"_blank\" href=https://colab.research.google.com/notebooks/data_table.ipynb>data table notebook</a>'\n",
              "            + ' to learn more about interactive tables.';\n",
              "          element.innerHTML = '';\n",
              "          dataTable['output_type'] = 'display_data';\n",
              "          await google.colab.output.renderOutput(dataTable, element);\n",
              "          const docLink = document.createElement('div');\n",
              "          docLink.innerHTML = docLinkHtml;\n",
              "          element.appendChild(docLink);\n",
              "        }\n",
              "      </script>\n",
              "    </div>\n",
              "  </div>\n",
              "  "
            ]
          },
          "metadata": {},
          "execution_count": 45
        }
      ]
    },
    {
      "cell_type": "code",
      "source": [
        "result.plot(kind = 'bar',\n",
        "        x = 'Classifier',\n",
        "        y = 'Accuracy',\n",
        "        color = 'green')\n",
        "  \n",
        "# set the title\n",
        "plt.title('Performance comparision')\n",
        "  \n",
        "# show the plot\n",
        "plt.show()"
      ],
      "metadata": {
        "colab": {
          "base_uri": "https://localhost:8080/",
          "height": 365
        },
        "id": "4OjssPA6225f",
        "outputId": "32c2f2d1-a638-4d2f-87fb-894f53d92b8c"
      },
      "execution_count": null,
      "outputs": [
        {
          "output_type": "display_data",
          "data": {
            "text/plain": [
              "<Figure size 432x288 with 1 Axes>"
            ],
            "image/png": "[encoded data removed]"
          },
          "metadata": {}
        }
      ]
    },
    {
      "cell_type": "markdown",
      "source": [
        "👉 Random Forest, extra tree, ridge and Gradint boosting algorithms performed well.    \n",
        "Next step is to create classification report"
      ],
      "metadata": {
        "id": "ZpfrB7i-3zGt"
      }
    },
    {
      "cell_type": "markdown",
      "source": [
        "Model saving"
      ],
      "metadata": {
        "id": "zvLB924V5OCx"
      }
    },
    {
      "cell_type": "code",
      "source": [
        "#random Forest\n",
        "pickle.dump(bagging_random_forest, open('rf_bagging.pickle', 'wb'))\n",
        "\n",
        "# gradient Boosting\n",
        "pickle.dump(gradient_boosting, open('gb_bagging.pickle', 'wb'))"
      ],
      "metadata": {
        "id": "gLbL9w935QVX"
      },
      "execution_count": null,
      "outputs": []
    },
    {
      "cell_type": "code",
      "source": [
        "#classification report\n",
        "rf_report = pd.DataFrame(classification_report(y_test, y_pred_rf,output_dict=True)).transpose()\n",
        "rf_report = rf_report.round(2)\n",
        "rf_report.to_csv('rf_report.csv',index=True)\n",
        "\n",
        "ex_report = pd.DataFrame(classification_report(y_test, y_pred_ex,output_dict=True)).transpose()\n",
        "ex_report = rf_report.round(2)\n",
        "ex_report.to_csv('ex_report.csv',index=True)\n",
        "\n",
        "ridge_report = pd.DataFrame(classification_report(y_test, y_pred_ridge,output_dict=True)).transpose()\n",
        "ridge_report = ridge_report.round(2)\n",
        "ridge_report.to_csv('ridge_report.csv',index=True)\n",
        "\n",
        "knn_report = pd.DataFrame(classification_report(y_test, y_pred_knn,output_dict=True)).transpose()\n",
        "knn_report = knn_report.round(2)\n",
        "knn_report.to_csv('knn_report.csv',index=True)\n",
        "\n",
        "svm_report = pd.DataFrame(classification_report(y_test, y_pred_svm,output_dict=True)).transpose()\n",
        "svm_report = svm_report.round(2)\n",
        "svm_report.to_csv('svm_report.csv',index=True)\n",
        "\n",
        "ada_report = pd.DataFrame(classification_report(y_test, y_pred_ada,output_dict=True)).transpose()\n",
        "ada_report = ada_report.round(2)\n",
        "ada_report.to_csv('ada_report.csv',index=True)\n",
        "\n",
        "gb_report = pd.DataFrame(classification_report(y_test, y_pred_gb,output_dict=True)).transpose()\n",
        "gb_report = gb_report.round(2)\n",
        "gb_report.to_csv('gb_report.csv',index=True)\n",
        "\n"
      ],
      "metadata": {
        "id": "v2gj8JQ9GuwQ"
      },
      "execution_count": null,
      "outputs": []
    },
    {
      "cell_type": "markdown",
      "source": [
        "## Confusion matrix of best models"
      ],
      "metadata": {
        "id": "toKzR-cb3S9s"
      }
    },
    {
      "cell_type": "code",
      "source": [
        "\n",
        "cf_matrix = confusion_matrix(y_test, y_pred_rf)\n",
        "sns.heatmap(cf_matrix, annot=True)\n",
        "plt.title('Confusion matrix of randomForest')\n",
        "plt.show()"
      ],
      "metadata": {
        "colab": {
          "base_uri": "https://localhost:8080/",
          "height": 283
        },
        "id": "fz-YLLAb3hrv",
        "outputId": "e3de36d9-0eca-49ed-c403-0deb62b97c84"
      },
      "execution_count": null,
      "outputs": [
        {
          "output_type": "display_data",
          "data": {
            "text/plain": [
              "<Figure size 432x288 with 2 Axes>"
            ],
            "image/png": "[encoded data removed]"
          },
          "metadata": {}
        }
      ]
    },
    {
      "cell_type": "code",
      "source": [
        "cf_matrix = confusion_matrix(y_test, y_pred_gb)\n",
        "sns.heatmap(cf_matrix, annot=True)\n",
        "plt.title('Confusion matrix of GradientBoosting')\n",
        "plt.show()"
      ],
      "metadata": {
        "colab": {
          "base_uri": "https://localhost:8080/",
          "height": 283
        },
        "id": "1MNeo23c4_0B",
        "outputId": "078bf2dc-96a2-4dfe-bda8-60d098ca07ce"
      },
      "execution_count": null,
      "outputs": [
        {
          "output_type": "display_data",
          "data": {
            "text/plain": [
              "<Figure size 432x288 with 2 Axes>"
            ],
            "image/png": "[encoded data removed]"
          },
          "metadata": {}
        }
      ]
    },
    {
      "cell_type": "code",
      "source": [
        "pd.r"
      ],
      "metadata": {
        "id": "0QicIz19qVDg"
      },
      "execution_count": null,
      "outputs": []
    },
    {
      "cell_type": "markdown",
      "source": [
        "## Conclusion"
      ],
      "metadata": {
        "id": "fCJXGXxUGytd"
      }
    },
    {
      "cell_type": "code",
      "source": [],
      "metadata": {
        "id": "qa4SliZWG1YM"
      },
      "execution_count": null,
      "outputs": []
    }
  ]
}